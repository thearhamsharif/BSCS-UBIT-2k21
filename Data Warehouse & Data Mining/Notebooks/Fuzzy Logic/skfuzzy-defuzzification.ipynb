{
 "cells": [
  {
   "metadata": {},
   "cell_type": "markdown",
   "source": "# 1. Download Libraries",
   "id": "ff79a972f71e6b77"
  },
  {
   "metadata": {
    "execution": {
     "iopub.execute_input": "2022-10-24T11:42:15.188154Z",
     "iopub.status.busy": "2022-10-24T11:42:15.187726Z",
     "iopub.status.idle": "2022-10-24T11:42:31.710756Z",
     "shell.execute_reply": "2022-10-24T11:42:31.709296Z"
    },
    "papermill": {
     "duration": 16.531897,
     "end_time": "2022-10-24T11:42:31.713625",
     "exception": false,
     "start_time": "2022-10-24T11:42:15.181728",
     "status": "completed"
    },
    "tags": [],
    "ExecuteTime": {
     "end_time": "2025-09-19T13:23:13.567270Z",
     "start_time": "2025-09-19T13:23:10.550688Z"
    }
   },
   "cell_type": "code",
   "source": "!pip install -U scikit-fuzzy",
   "id": "66d75444",
   "outputs": [
    {
     "name": "stdout",
     "output_type": "stream",
     "text": [
      "Defaulting to user installation because normal site-packages is not writeable\n",
      "Requirement already satisfied: scikit-fuzzy in c:\\users\\arham sharif\\appdata\\roaming\\python\\python313\\site-packages (0.5.0)\n"
     ]
    },
    {
     "name": "stderr",
     "output_type": "stream",
     "text": [
      "\n",
      "[notice] A new release of pip is available: 24.3.1 -> 25.2\n",
      "[notice] To update, run: python.exe -m pip install --upgrade pip\n"
     ]
    }
   ],
   "execution_count": 52
  },
  {
   "metadata": {},
   "cell_type": "markdown",
   "source": "# 2. Import Libraries",
   "id": "168a7693ce4dbe2"
  },
  {
   "metadata": {
    "execution": {
     "iopub.execute_input": "2022-10-24T11:42:31.726370Z",
     "iopub.status.busy": "2022-10-24T11:42:31.725915Z",
     "iopub.status.idle": "2022-10-24T11:42:32.063951Z",
     "shell.execute_reply": "2022-10-24T11:42:32.062632Z"
    },
    "papermill": {
     "duration": 0.347913,
     "end_time": "2022-10-24T11:42:32.066903",
     "exception": false,
     "start_time": "2022-10-24T11:42:31.718990",
     "status": "completed"
    },
    "tags": [],
    "ExecuteTime": {
     "end_time": "2025-09-19T13:23:13.582747Z",
     "start_time": "2025-09-19T13:23:13.577944Z"
    }
   },
   "cell_type": "code",
   "source": [
    "import numpy as np\n",
    "import matplotlib.pyplot as plt\n",
    "import skfuzzy as fuzz"
   ],
   "id": "1414243ba52b2dcc",
   "outputs": [],
   "execution_count": 53
  },
  {
   "metadata": {},
   "cell_type": "markdown",
   "source": "# 3. Define Universe and Membership Function",
   "id": "dc947bba90a823a7"
  },
  {
   "metadata": {
    "execution": {
     "iopub.execute_input": "2022-10-24T11:42:32.079138Z",
     "iopub.status.busy": "2022-10-24T11:42:32.078713Z",
     "iopub.status.idle": "2022-10-24T11:42:32.084765Z",
     "shell.execute_reply": "2022-10-24T11:42:32.083539Z"
    },
    "papermill": {
     "duration": 0.015048,
     "end_time": "2022-10-24T11:42:32.087050",
     "exception": false,
     "start_time": "2022-10-24T11:42:32.072002",
     "status": "completed"
    },
    "tags": [],
    "ExecuteTime": {
     "end_time": "2025-09-19T13:23:13.608882Z",
     "start_time": "2025-09-19T13:23:13.593012Z"
    }
   },
   "cell_type": "code",
   "source": [
    "# Universe from 0 to 10 with step of 0.1\n",
    "x = np.arange(0, 10.05, 0.1)\n",
    "\n",
    "# Trapezoidal membership function\n",
    "mfx = fuzz.trapmf(x, [1, 3, 6, 9])"
   ],
   "id": "5f66c2f8",
   "outputs": [],
   "execution_count": 54
  },
  {
   "metadata": {},
   "cell_type": "markdown",
   "source": "# 4. Fuzzy Membership Function",
   "id": "b061f21786be5c13"
  },
  {
   "metadata": {
    "execution": {
     "iopub.execute_input": "2022-10-24T11:42:32.098996Z",
     "iopub.status.busy": "2022-10-24T11:42:32.098527Z",
     "iopub.status.idle": "2022-10-24T11:42:32.105647Z",
     "shell.execute_reply": "2022-10-24T11:42:32.104309Z"
    },
    "papermill": {
     "duration": 0.016099,
     "end_time": "2022-10-24T11:42:32.108192",
     "exception": false,
     "start_time": "2022-10-24T11:42:32.092093",
     "status": "completed"
    },
    "tags": [],
    "ExecuteTime": {
     "end_time": "2025-09-19T13:23:13.626342Z",
     "start_time": "2025-09-19T13:23:13.617979Z"
    }
   },
   "cell_type": "code",
   "source": [
    "# Defuzzify this membership function five ways\n",
    "defuzz_centroid = fuzz.defuzz(x, mfx, 'centroid')   # Center of gravity\n",
    "defuzz_bisector = fuzz.defuzz(x, mfx, 'bisector')   # Bisector\n",
    "defuzz_mom = fuzz.defuzz(x, mfx, 'mom')             # Mean of maximum\n",
    "defuzz_som = fuzz.defuzz(x, mfx, 'som')             # Smallest of maximum\n",
    "defuzz_lom = fuzz.defuzz(x, mfx, 'lom')             # Largest of maximum\n",
    "\n",
    "print(\"Centroid:\", defuzz_centroid)\n",
    "print(\"Bisector:\", defuzz_bisector)\n",
    "print(\"MOM:\", defuzz_mom)\n",
    "print(\"SOM:\", defuzz_som)\n",
    "print(\"LOM:\", defuzz_lom)\n",
    "\n",
    "# Collect info for vertical lines\n",
    "labels = ['centroid', 'bisector', 'mean of maximum', 'min of maximum', 'max of maximum']\n",
    "xvals = [defuzz_centroid,\n",
    "         defuzz_bisector,\n",
    "         defuzz_mom,\n",
    "         defuzz_som,\n",
    "         defuzz_lom]\n",
    "colors = ['r', 'b', 'g', 'c', 'm']\n",
    "ymax = [fuzz.interp_membership(x, mfx, i) for i in xvals]"
   ],
   "id": "f61ac874",
   "outputs": [
    {
     "name": "stdout",
     "output_type": "stream",
     "text": [
      "Centroid: 4.787878787878787\n",
      "Bisector: 4.75\n",
      "MOM: 4.5\n",
      "SOM: 3.0\n",
      "LOM: 6.0\n"
     ]
    }
   ],
   "execution_count": 55
  },
  {
   "metadata": {},
   "cell_type": "markdown",
   "source": "# 5. Plot Membership Function with Defuzzified Values",
   "id": "46b880bb242aeedb"
  },
  {
   "metadata": {
    "execution": {
     "iopub.execute_input": "2022-10-24T11:42:32.222208Z",
     "iopub.status.busy": "2022-10-24T11:42:32.221096Z",
     "iopub.status.idle": "2022-10-24T11:42:32.495637Z",
     "shell.execute_reply": "2022-10-24T11:42:32.494212Z"
    },
    "papermill": {
     "duration": 0.285323,
     "end_time": "2022-10-24T11:42:32.499721",
     "exception": false,
     "start_time": "2022-10-24T11:42:32.214398",
     "status": "completed"
    },
    "tags": [],
    "ExecuteTime": {
     "end_time": "2025-09-19T13:23:13.823954Z",
     "start_time": "2025-09-19T13:23:13.638496Z"
    }
   },
   "cell_type": "code",
   "source": [
    "plt.figure(figsize=(12, 8))\n",
    "\n",
    "plt.plot(x, mfx, 'k')\n",
    "for xv, y, label, color in zip(xvals, ymax, labels, colors):\n",
    "    plt.vlines(xv, 0, y, label=label, color=color)\n",
    "plt.ylabel('Fuzzy membership')\n",
    "plt.xlabel('Universe variable (arb)')\n",
    "plt.ylim(-0.1, 1.1)\n",
    "plt.legend(loc=2)\n",
    "\n",
    "plt.show()"
   ],
   "id": "49998dbc",
   "outputs": [
    {
     "data": {
      "text/plain": [
       "<Figure size 1200x800 with 1 Axes>"
      ],
      "image/png": "[encoded data removed]"
     },
     "metadata": {},
     "output_type": "display_data"
    }
   ],
   "execution_count": 56
  }
 ],
 "metadata": {
  "kernelspec": {
   "display_name": "Python 3",
   "language": "python",
   "name": "python3"
  },
  "language_info": {
   "codemirror_mode": {
    "name": "ipython",
    "version": 3
   },
   "file_extension": ".py",
   "mimetype": "text/x-python",
   "name": "python",
   "nbconvert_exporter": "python",
   "pygments_lexer": "ipython3",
   "version": "3.13.1"
  },
  "papermill": {
   "default_parameters": {},
   "duration": 28.434227,
   "end_time": "2022-10-24T11:42:33.352723",
   "environment_variables": {},
   "exception": null,
   "input_path": "__notebook__.ipynb",
   "output_path": "__notebook__.ipynb",
   "parameters": {},
   "start_time": "2022-10-24T11:42:04.918496",
   "version": "2.3.4"
  }
 },
 "nbformat": 4,
 "nbformat_minor": 5
}
