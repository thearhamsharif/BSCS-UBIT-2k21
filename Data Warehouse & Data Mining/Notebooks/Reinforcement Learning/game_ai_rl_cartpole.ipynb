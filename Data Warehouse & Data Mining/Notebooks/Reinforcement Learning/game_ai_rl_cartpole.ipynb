{
 "cells": [
  {
   "metadata": {},
   "cell_type": "markdown",
   "source": "# 1. Import Libraries",
   "id": "7ac8311fa2ab845e"
  },
  {
   "metadata": {
    "ExecuteTime": {
     "end_time": "2025-07-13T20:16:29.931843Z",
     "start_time": "2025-07-13T20:16:29.926668Z"
    }
   },
   "cell_type": "code",
   "source": [
    "import warnings\n",
    "\n",
    "# Suppress the specific pkg_resources deprecation warning from pygame\n",
    "warnings.filterwarnings(\n",
    "    \"ignore\",\n",
    "    message=\"pkg_resources is deprecated as an API*\",\n",
    "    category=UserWarning,\n",
    ")\n",
    "\n",
    "import numpy as np\n",
    "np.bool8 = np.bool_  # Fix numpy bool8 attribute error\n",
    "import gym"
   ],
   "id": "76999f4e28076c5a",
   "outputs": [],
   "execution_count": 4
  },
  {
   "metadata": {},
   "cell_type": "markdown",
   "source": "# 2. Create the CartPole environment with human rendering mode for visualization",
   "id": "b89d4c7a71dc8fba"
  },
  {
   "metadata": {
    "ExecuteTime": {
     "end_time": "2025-07-13T20:16:34.766288Z",
     "start_time": "2025-07-13T20:16:29.949902Z"
    }
   },
   "cell_type": "code",
   "source": [
    "env = gym.make(\"CartPole-v1\", render_mode=\"human\")\n",
    "\n",
    "episodes = 10  # Number of episodes to run\n",
    "max_steps = 200  # Max steps per episode\n",
    "\n",
    "for episode in range(episodes):\n",
    "    # Reset environment to initial state\n",
    "    obs = env.reset()\n",
    "\n",
    "    # Handle new gym reset() returning (obs, info) tuple\n",
    "    if isinstance(obs, tuple):\n",
    "        state, _ = obs\n",
    "    else:\n",
    "        state = obs\n",
    "\n",
    "    total_reward = 0\n",
    "\n",
    "    for step in range(max_steps):\n",
    "        # No need to call env.render() here, render_mode=\"human\" handles it\n",
    "\n",
    "        # Select an action randomly from the action space\n",
    "        action = env.action_space.sample()\n",
    "\n",
    "        # Take a step in the environment with the selected action\n",
    "        result = env.step(action)\n",
    "\n",
    "        # Handle step() output differences between gym versions\n",
    "        if len(result) == 5:\n",
    "            next_state, reward, terminated, truncated, info = result\n",
    "            done = terminated or truncated\n",
    "        else:\n",
    "            next_state, reward, done, info = result\n",
    "\n",
    "        state = next_state\n",
    "        total_reward += reward\n",
    "\n",
    "        # Break loop if episode finished\n",
    "        if done:\n",
    "            break\n",
    "\n",
    "    print(f\"Episode {episode + 1}: Total Reward = {total_reward}\")"
   ],
   "id": "4b7c76d1e931b9a6",
   "outputs": [
    {
     "name": "stdout",
     "output_type": "stream",
     "text": [
      "Episode 1: Total Reward = 42.0\n",
      "Episode 2: Total Reward = 26.0\n",
      "Episode 3: Total Reward = 15.0\n",
      "Episode 4: Total Reward = 12.0\n",
      "Episode 5: Total Reward = 39.0\n",
      "Episode 6: Total Reward = 16.0\n",
      "Episode 7: Total Reward = 23.0\n",
      "Episode 8: Total Reward = 13.0\n",
      "Episode 9: Total Reward = 12.0\n",
      "Episode 10: Total Reward = 10.0\n"
     ]
    }
   ],
   "execution_count": 5
  },
  {
   "metadata": {},
   "cell_type": "markdown",
   "source": "# 3. Close environment window",
   "id": "59ad56ee6a94d10d"
  },
  {
   "metadata": {
    "ExecuteTime": {
     "end_time": "2025-07-13T20:16:34.902206Z",
     "start_time": "2025-07-13T20:16:34.807863Z"
    }
   },
   "cell_type": "code",
   "source": "env.close()",
   "id": "78693ca895cb5bcf",
   "outputs": [],
   "execution_count": 6
  }
 ],
 "metadata": {
  "kernelspec": {
   "display_name": "Python 3",
   "language": "python",
   "name": "python3"
  },
  "language_info": {
   "codemirror_mode": {
    "name": "ipython",
    "version": 2
   },
   "file_extension": ".py",
   "mimetype": "text/x-python",
   "name": "python",
   "nbconvert_exporter": "python",
   "pygments_lexer": "ipython2",
   "version": "2.7.6"
  }
 },
 "nbformat": 4,
 "nbformat_minor": 5
}
